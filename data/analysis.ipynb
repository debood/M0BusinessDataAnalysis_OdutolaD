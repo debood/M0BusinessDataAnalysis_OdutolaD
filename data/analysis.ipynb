{
 "cells": [
  {
   "cell_type": "code",
   "execution_count": 64,
   "metadata": {},
   "outputs": [],
   "source": [
    "import csv"
   ]
  },
  {
   "cell_type": "code",
   "execution_count": 65,
   "metadata": {},
   "outputs": [
    {
     "name": "stdout",
     "output_type": "stream",
     "text": [
      "['', 'Unnamed: 0', 'year', 'Season_type', 'PLAYER_ID', 'RANK', 'PLAYER', 'TEAM_ID', 'TEAM', 'GP', 'MIN', 'FGM', 'FGA', 'FG_PCT', 'FG3M', 'FG3A', 'FG3_PCT', 'FTM', 'FTA', 'FT_PCT', 'OREB', 'DREB', 'REB', 'AST', 'STL', 'BLK', 'TOV', 'PF', 'PTS', 'AST_TOV', 'STL_TOV']\n",
      "['0', '0', '2012-13', 'Regular_Season', '201142', '1', 'Kevin Durant', '1610612760', 'OKC', '81', '3119', '731', '1433', '0.51', '139', '334', '0.416', '679', '750', '0.905', '46', '594', '640', '374', '116', '105', '280', '143', '2280', '1.34', '0.41']\n",
      "['1', '1', '2012-13', 'Regular_Season', '977', '2', 'Kobe Bryant', '1610612747', 'LAL', '78', '3013', '738', '1595', '0.463', '132', '407', '0.324', '525', '626', '0.839', '66', '367', '433', '469', '106', '25', '287', '173', '2133', '1.63', '0.37']\n",
      "['2', '2', '2012-13', 'Regular_Season', '2544', '3', 'LeBron James', '1610612748', 'MIA', '76', '2877', '765', '1354', '0.565', '103', '254', '0.406', '403', '535', '0.753', '97', '513', '610', '551', '129', '67', '226', '110', '2036', '2.44', '0.57']\n",
      "['3', '3', '2012-13', 'Regular_Season', '201935', '4', 'James Harden', '1610612745', 'HOU', '78', '2985', '585', '1337', '0.438', '179', '486', '0.368', '674', '792', '0.851', '62', '317', '379', '455', '142', '38', '295', '178', '2023', '1.54', '0.48']\n",
      "['4', '4', '2012-13', 'Regular_Season', '2546', '5', 'Carmelo Anthony', '1610612752', 'NYK', '67', '2482', '669', '1489', '0.449', '157', '414', '0.379', '425', '512', '0.83', '134', '326', '460', '171', '52', '32', '175', '205', '1920', '0.98', '0.3']\n"
     ]
    }
   ],
   "source": [
    "with open(\"Regular_Season.csv\", 'r') as file:\n",
    "       csvreader = csv.reader(file)\n",
    "       row_count = 0\n",
    "       for row in csvreader:\n",
    "        print(row)\n",
    "        row_count += 1\n",
    "        if row_count >= 6:\n",
    "            break  # Stop after printing the first 5 rows"
   ]
  },
  {
   "cell_type": "code",
   "execution_count": 66,
   "metadata": {},
   "outputs": [],
   "source": [
    "with open(\"Regular_Season.csv\", \"r\") as source: \n",
    "    reader = csv.reader(source) \n",
    "\n",
    "    with open(\"NewRegular_Season.csv\", \"w\") as result: \n",
    "        writer = csv.writer(result)\n",
    "        for r in reader:\n",
    "            writer.writerow((r[2], r[3], r[5], r[6], r[8:30]))"
   ]
  },
  {
   "cell_type": "code",
   "execution_count": 67,
   "metadata": {},
   "outputs": [],
   "source": [
    "with open(\"Playoffs.csv\", \"r\") as source: \n",
    "    reader = csv.reader(source) \n",
    "\n",
    "    with open(\"NewPlayoffs.csv\", \"w\") as result: \n",
    "        writer = csv.writer(result)\n",
    "        for r in reader:\n",
    "            writer.writerow((r[2], r[3], r[5], r[6], r[8:30]))"
   ]
  }
 ],
 "metadata": {
  "kernelspec": {
   "display_name": "Python 3",
   "language": "python",
   "name": "python3"
  },
  "language_info": {
   "codemirror_mode": {
    "name": "ipython",
    "version": 3
   },
   "file_extension": ".py",
   "mimetype": "text/x-python",
   "name": "python",
   "nbconvert_exporter": "python",
   "pygments_lexer": "ipython3",
   "version": "3.9.6"
  }
 },
 "nbformat": 4,
 "nbformat_minor": 2
}
